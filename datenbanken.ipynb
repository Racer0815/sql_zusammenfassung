{
 "cells": [
  {
   "cell_type": "markdown",
   "metadata": {},
   "source": [
    "## Vorbereitungen"
   ]
  },
  {
   "cell_type": "markdown",
   "metadata": {},
   "source": [
    "> verbinden des Notebook mit der Datenbank um später SQL ausführen zu können"
   ]
  },
  {
   "cell_type": "code",
   "execution_count": null,
   "metadata": {},
   "outputs": [],
   "source": [
    "%load_ext sql\n",
    "%sql sqlite:///datenbank.db"
   ]
  },
  {
   "cell_type": "markdown",
   "metadata": {},
   "source": [
    "> Erstellen der Tabelle *bundeslaender*"
   ]
  },
  {
   "cell_type": "code",
   "execution_count": null,
   "metadata": {},
   "outputs": [],
   "source": [
    "%sql CREATE TABLE bundeslaender (id int NOT NULL UNIQUE PRIMARY KEY, name text, flaeche int, anteil_an_deutschland float)"
   ]
  },
  {
   "cell_type": "markdown",
   "metadata": {},
   "source": [
    "> Einfügen der Daten (Quelle: [Wikipedia](https://de.wikipedia.org/wiki/Liste_der_deutschen_Bundesländer_nach_Fläche))"
   ]
  },
  {
   "cell_type": "code",
   "execution_count": null,
   "metadata": {},
   "outputs": [],
   "source": [
    "%sql INSERT INTO bundeslaender (id, name, flaeche, anteil_an_deutschland) VALUES (1, 'Bayern', 70541, 19.73)\n",
    "%sql INSERT INTO bundeslaender (id, name, flaeche, anteil_an_deutschland) VALUES (2, 'Niedersachsen', 47709, 13.34)\n",
    "%sql INSERT INTO bundeslaender (id, name, flaeche, anteil_an_deutschland) VALUES (3, 'Baden-Württemberg', 35747, 10.00)\n",
    "%sql INSERT INTO bundeslaender (id, name, flaeche, anteil_an_deutschland) VALUES (4, 'Nordrhein-Westfalen', 34112, 9.54)\n",
    "%sql INSERT INTO bundeslaender (id, name, flaeche, anteil_an_deutschland) VALUES (5, 'Brandenburg', 29654, 8.29)\n",
    "%sql INSERT INTO bundeslaender (id, name, flaeche, anteil_an_deutschland) VALUES (6, 'Mecklenburg-Vorpommern', 23295, 6.51)\n",
    "%sql INSERT INTO bundeslaender (id, name, flaeche, anteil_an_deutschland) VALUES (7, 'Hessen', 21115, 5.91)\n",
    "%sql INSERT INTO bundeslaender (id, name, flaeche, anteil_an_deutschland) VALUES (8, 'Sachsen-Anhalt', 20456, 5.72)\n",
    "%sql INSERT INTO bundeslaender (id, name, flaeche, anteil_an_deutschland) VALUES (9, 'Rheinland-Pfalz', 19858, 5.55)\n",
    "%sql INSERT INTO bundeslaender (id, name, flaeche, anteil_an_deutschland) VALUES (10, 'Sachsen', 18449, 5.16)\n",
    "%sql INSERT INTO bundeslaender (id, name, flaeche, anteil_an_deutschland) VALUES (11, 'Thüringen', 16202, 4.53)\n",
    "%sql INSERT INTO bundeslaender (id, name, flaeche, anteil_an_deutschland) VALUES (12, 'Schleswig-Holstein', 15800, 4.42)\n",
    "%sql INSERT INTO bundeslaender (id, name, flaeche, anteil_an_deutschland) VALUES (13, 'Saarland', 2571, 0.72)\n",
    "%sql INSERT INTO bundeslaender (id, name, flaeche, anteil_an_deutschland) VALUES (14, 'Berlin', 891, 0.25)\n",
    "%sql INSERT INTO bundeslaender (id, name, flaeche, anteil_an_deutschland) VALUES (15, 'Hamburg', 755, 0.21)\n",
    "%sql INSERT INTO bundeslaender (id, name, flaeche, anteil_an_deutschland) VALUES (16, 'Bremen', 419, 0.12)"
   ]
  },
  {
   "cell_type": "markdown",
   "metadata": {},
   "source": [
    "## Abfragen mit SQL"
   ]
  },
  {
   "cell_type": "markdown",
   "metadata": {},
   "source": [
    "### Alle Daten einer Tablle ausgeben\n",
    "- SELECT          : Man möchte Daten von der Datenbank abrufen\n",
    "- _*_               : Symbol der Informatik für ALLES\n",
    "- FROM            : Angabe der Tabelle (Von welcher Tablle der Datenbank sollen die Daten kommen?)\n",
    "- bundeslaender   : **Hier:** Unsere Tabelle, welche daten über die Bundesländer enthält"
   ]
  },
  {
   "cell_type": "code",
   "execution_count": null,
   "metadata": {},
   "outputs": [],
   "source": [
    "%sql SELECT * FROM bundeslaender"
   ]
  },
  {
   "cell_type": "markdown",
   "metadata": {},
   "source": [
    "### WHERE Statement\n",
    "WHERE fügt der Abfrage eine Bedingung hinzu  \n",
    "Syntax: WHERE _spaltenName = Wert_  \n",
    "**WICHTIG** Beim suchen nach Text nicht \" sondern ' verwenden  "
   ]
  },
  {
   "cell_type": "code",
   "execution_count": null,
   "metadata": {},
   "outputs": [],
   "source": [
    "%sql SELECT * FROM bundeslaender WHERE flaeche=47709"
   ]
  },
  {
   "cell_type": "code",
   "execution_count": null,
   "metadata": {},
   "outputs": [],
   "source": [
    "%sql SELECT * FROM bundeslaender WHERE name='Baden-Württemberg'"
   ]
  },
  {
   "cell_type": "markdown",
   "metadata": {},
   "source": [
    "Es kann auch *>* Größer oder *<* Kleiner als verwendet werden"
   ]
  },
  {
   "cell_type": "code",
   "execution_count": null,
   "metadata": {},
   "outputs": [],
   "source": [
    "%sql SELECT * FROM bundeslaender WHERE flaeche>21115"
   ]
  },
  {
   "cell_type": "code",
   "execution_count": null,
   "metadata": {},
   "outputs": [],
   "source": [
    "%sql SELECT * FROM bundeslaender WHERE flaeche<21116"
   ]
  },
  {
   "cell_type": "markdown",
   "metadata": {},
   "source": [
    "### Spezielle Daten abfragen\n",
    "Durch das nennen der Spalten Namen anstelle eines * bekommt man nur ausgewählte Daten ausgegeben."
   ]
  },
  {
   "cell_type": "code",
   "execution_count": null,
   "metadata": {},
   "outputs": [],
   "source": [
    "%sql SELECT name, anteil_an_deutschland FROM bundeslaender"
   ]
  },
  {
   "cell_type": "code",
   "execution_count": null,
   "metadata": {},
   "outputs": [],
   "source": [
    "%sql SELECT name, flaeche FROM bundeslaender"
   ]
  },
  {
   "cell_type": "markdown",
   "metadata": {},
   "source": [
    "### Daten sortiert abfragen\n",
    "Um Daten bei der Abfrage zu sortieren kann man das *ORDER BY* statement verwenden.   \n",
    "Mit dem zusatz *DESC* wird die Suche invertiert "
   ]
  },
  {
   "cell_type": "code",
   "execution_count": null,
   "metadata": {},
   "outputs": [],
   "source": [
    "%sql SELECT * FROM bundeslaender ORDER BY flaeche"
   ]
  },
  {
   "cell_type": "code",
   "execution_count": null,
   "metadata": {},
   "outputs": [],
   "source": [
    "%sql SELECT * FROM bundeslaender ORDER BY flaeche DESC"
   ]
  },
  {
   "attachments": {},
   "cell_type": "markdown",
   "metadata": {},
   "source": [
    "### LIKE statement\n",
    "Um nach ähnlichen daten zu suchen kann man den _LIKE_ befehl nutzen.    "
   ]
  },
  {
   "cell_type": "code",
   "execution_count": null,
   "metadata": {},
   "outputs": [],
   "source": [
    "%sql SELECT * FROM bundeslaender  WHERE name LIKE 'Ba%'"
   ]
  },
  {
   "attachments": {},
   "cell_type": "markdown",
   "metadata": {},
   "source": [
    "Nun werden alle Bundesländer angezeigt, welche mit __Ba__ beginnen."
   ]
  },
  {
   "cell_type": "code",
   "execution_count": null,
   "metadata": {},
   "outputs": [],
   "source": [
    "%sql SELECT * FROM bundeslaender WHERE name LIKE '%en'"
   ]
  },
  {
   "attachments": {},
   "cell_type": "markdown",
   "metadata": {},
   "source": [
    "Jetzt werden alle Bundesländer angezeigt, welche auf __en__ enden."
   ]
  },
  {
   "attachments": {},
   "cell_type": "markdown",
   "metadata": {},
   "source": [
    "## Tabellen Verknüpfen"
   ]
  },
  {
   "attachments": {},
   "cell_type": "markdown",
   "metadata": {},
   "source": [
    "### Vorbereitung"
   ]
  },
  {
   "attachments": {},
   "cell_type": "markdown",
   "metadata": {},
   "source": [
    "**Erstellen einer 2. Datenbanktabelle**    \n",
    "Hier werden Städte gelistet"
   ]
  },
  {
   "cell_type": "code",
   "execution_count": null,
   "metadata": {},
   "outputs": [],
   "source": [
    "%sql CREATE TABLE staedte (id int NOT NULL UNIQUE PRIMARY KEY, name text, einwohner int, flaeche float)\n",
    "%sql INSERT INTO staedte (id, name, einwohner, flaeche) VALUES (1, 'Aachen', 258770, 160.83)\n",
    "%sql INSERT INTO staedte (id, name, einwohner, flaeche) VALUES (2, 'Augsburg', 262512, 146.86)\n",
    "%sql INSERT INTO staedte (id, name, einwohner, flaeche) VALUES (3, 'Berlin', 3404037, 891.85)\n",
    "%sql INSERT INTO staedte (id, name, einwohner, flaeche) VALUES (4, 'Bochum', 383743, 145.44)\n",
    "%sql INSERT INTO staedte (id, name, einwohner, flaeche) VALUES (5, 'Bremen', 547934, 325.42)\n",
    "%sql INSERT INTO staedte (id, name, einwohner, flaeche) VALUES (6, 'Dresden', 504795, 328.3)\n",
    "%sql INSERT INTO staedte (id, name, einwohner, flaeche) VALUES (7, 'Essen', 583198, 210.38)\n",
    "%sql INSERT INTO staedte (id, name, einwohner, flaeche) VALUES (8, 'Göttingen', 121581, 117.27)\n",
    "%sql INSERT INTO staedte (id, name, einwohner, flaeche) VALUES (9, 'Hamburg', 1754182, 755.16)\n",
    "%sql INSERT INTO staedte (id, name, einwohner, flaeche) VALUES (10, 'Köln', 989766, 405.15)\n",
    "%sql INSERT INTO staedte (id, name, einwohner, flaeche) VALUES (11, 'Mainz', 196425, 97.74)\n",
    "%sql INSERT INTO staedte (id, name, einwohner, flaeche) VALUES (12, 'Münster', 272106, 302.89)\n",
    "%sql INSERT INTO staedte (id, name, einwohner, flaeche) VALUES (13, 'Nürnberg', 500855, 186.4)\n",
    "%sql INSERT INTO staedte (id, name, einwohner, flaeche) VALUES (14, 'Rostock', 199868, 181.44)\n",
    "%sql INSERT INTO staedte (id, name, einwohner, flaeche) VALUES (15, 'Stuttgart', 593923, 207.36)\n",
    "%sql INSERT INTO staedte (id, name, einwohner, flaeche) VALUES (16, 'Ulm', 120925, 118.69)"
   ]
  },
  {
   "attachments": {},
   "cell_type": "markdown",
   "metadata": {},
   "source": [
    "**Erstellen der Link Tabelle**     \n",
    "Hier wird jede Stadt mit einem Bundesland assoziiert. Die link ID kann ignoriert werden, da sie nur als Primärschlüssel der Links dient"
   ]
  },
  {
   "cell_type": "code",
   "execution_count": null,
   "metadata": {},
   "outputs": [],
   "source": [
    "%sql CREATE TABLE links (id int NOT NULL UNIQUE PRIMARY KEY, stadt text, bundesland text)\n",
    "%sql INSERT INTO links (id, stadt, bundesland) VALUES (1, 'Aachen', 'Nordrhein-Westfahlen')\n",
    "%sql INSERT INTO links (id, stadt, bundesland) VALUES (2, 'Augsburg', 'Bayern')\n",
    "%sql INSERT INTO links (id, stadt, bundesland) VALUES (3, 'Berlin', 'Berlin')\n",
    "%sql INSERT INTO links (id, stadt, bundesland) VALUES (4, 'Bochum', 'Nordrhein-Westfahlen')\n",
    "%sql INSERT INTO links (id, stadt, bundesland) VALUES (5, 'Bremen', 'Bremen')\n",
    "%sql INSERT INTO links (id, stadt, bundesland) VALUES (6, 'Dresden', 'Sachsen')\n",
    "%sql INSERT INTO links (id, stadt, bundesland) VALUES (7, 'Essen', 'Nordrhein-Westfahlen')\n",
    "%sql INSERT INTO links (id, stadt, bundesland) VALUES (8, 'Göttingen', 'Niedersachsen')\n",
    "%sql INSERT INTO links (id, stadt, bundesland) VALUES (9, 'Hamburg', 'Hamburg')\n",
    "%sql INSERT INTO links (id, stadt, bundesland) VALUES (10, 'Köln', 'Nordrhein-Westfahlen')\n",
    "%sql INSERT INTO links (id, stadt, bundesland) VALUES (11, 'Mainz', 'Rheinland-Pfalz')\n",
    "%sql INSERT INTO links (id, stadt, bundesland) VALUES (12, 'Münster', 'Nordrhein-Westfahlen')\n",
    "%sql INSERT INTO links (id, stadt, bundesland) VALUES (13, 'Nürnberg', 'Bayern')\n",
    "%sql INSERT INTO links (id, stadt, bundesland) VALUES (14, 'Rostock', 'Mecklenburg-Vorpommern')\n",
    "%sql INSERT INTO links (id, stadt, bundesland) VALUES (15, 'Stuttgart', 'Baden-Württemberg')\n",
    "%sql INSERT INTO links (id, stadt, bundesland) VALUES (16, 'Ulm', 'Baden-Württemberg')"
   ]
  },
  {
   "cell_type": "markdown",
   "metadata": {},
   "source": [
    "### Spalten eindutig identifizieren"
   ]
  },
  {
   "cell_type": "code",
   "execution_count": null,
   "metadata": {},
   "outputs": [],
   "source": [
    "%sql SELECT name FROM bundeslaender, staedte"
   ]
  },
  {
   "cell_type": "markdown",
   "metadata": {},
   "source": [
    "Es entsteht ein Fehler.   \n",
    "Um dies zu beheben wird klar definiert, welche Daten wir möchten:    \n",
    "Syntax: *Tabelle*.*Spalte*"
   ]
  },
  {
   "cell_type": "code",
   "execution_count": null,
   "metadata": {},
   "outputs": [],
   "source": [
    "%sql SELECT staedte.name FROM staedte"
   ]
  },
  {
   "cell_type": "markdown",
   "metadata": {},
   "source": [
    "### Verknüpfung erstellen"
   ]
  },
  {
   "cell_type": "code",
   "execution_count": null,
   "metadata": {},
   "outputs": [],
   "source": [
    "%sql SELECT staedte.name, bundeslaender.name FROM staedte, bundeslaender, links WHERE links.stadt = staedte.name AND links.bundesland = bundeslaender.name"
   ]
  },
  {
   "cell_type": "markdown",
   "metadata": {},
   "source": [
    "Wir haben jetzt definiert, dass wir den **Namen der Stadt** und den **Namen des Bundeslands** haben möchten unter der Bedingung, dass der Name der Stadt mit dem Namen der Stadt aus der **Links** Tabelle übereinstimmen muss. **Gleichzietig** muss aber auch der Name des Bundeslandes mit dem Namen der Bundeslandes in der **Links** Tabellle in der selben Spalte übereinstimmen.         \n",
    "\n",
    "\n",
    "weiteres Beispiel:"
   ]
  },
  {
   "cell_type": "code",
   "execution_count": null,
   "metadata": {},
   "outputs": [],
   "source": [
    "%sql SELECT staedte.name, staedte.einwohner, bundeslaender.name, bundeslaender.flaeche FROM staedte, bundeslaender, links WHERE links.stadt = staedte.name AND links.bundesland = bundeslaender.name"
   ]
  },
  {
   "cell_type": "code",
   "execution_count": null,
   "metadata": {},
   "outputs": [],
   "source": [
    "%sql SELECT staedte.name, staedte.einwohner, bundeslaender.name, bundeslaender.flaeche FROM staedte, bundeslaender, links WHERE links.stadt = staedte.name AND links.bundesland = bundeslaender.name AND staedte.einwohner > 500000"
   ]
  }
 ],
 "metadata": {
  "kernelspec": {
   "display_name": "Python 3",
   "language": "python",
   "name": "python3"
  },
  "language_info": {
   "codemirror_mode": {
    "name": "ipython",
    "version": 3
   },
   "file_extension": ".py",
   "mimetype": "text/x-python",
   "name": "python",
   "nbconvert_exporter": "python",
   "pygments_lexer": "ipython3",
   "version": "3.10.9"
  }
 },
 "nbformat": 4,
 "nbformat_minor": 2
}
